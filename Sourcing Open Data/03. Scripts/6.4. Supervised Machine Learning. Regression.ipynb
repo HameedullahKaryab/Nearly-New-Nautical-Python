{
 "cells": [
  {
   "cell_type": "markdown",
   "id": "53cdd9a8-5784-478c-8591-fa3d491f58f0",
   "metadata": {},
   "source": [
    "## **6.4: Supervised Machine Learning: Regression**"
   ]
  },
  {
   "cell_type": "markdown",
   "id": "67c03166-c14d-46c2-975d-e24d1fec9e31",
   "metadata": {},
   "source": [
    "### **This script contains the following:**\n",
    "##### 1. Importing libraries and data\n",
    "##### 2. Data prep for regression analysis\n",
    "##### 3. Regression analysis"
   ]
  },
  {
   "cell_type": "markdown",
   "id": "4dfd9d1e-f87a-44d7-a207-5e09c9a73345",
   "metadata": {},
   "source": [
    "### **1. Importing libraries and data**"
   ]
  },
  {
   "cell_type": "code",
   "execution_count": 1,
   "id": "274021ef-5c93-45d1-a934-b1eff637fcad",
   "metadata": {},
   "outputs": [],
   "source": [
    "import pandas as pd\n",
    "import numpy as np\n",
    "import seaborn as sns\n",
    "import matplotlib\n",
    "import matplotlib.pyplot as plt\n",
    "import os\n",
    "import sklearn\n",
    "from sklearn.model_selection import train_test_split \n",
    "from sklearn.linear_model import LinearRegression\n",
    "from sklearn.metrics import mean_squared_error, r2_score"
   ]
  },
  {
   "cell_type": "code",
   "execution_count": 2,
   "id": "ad34c85d-3ef8-49b2-9342-e6e79460dfde",
   "metadata": {},
   "outputs": [],
   "source": [
    "# This option ensures that the graphs you create are displayed within the notebook without the need to \"call\" them specifically.\n",
    "\n",
    "%matplotlib inline"
   ]
  },
  {
   "cell_type": "code",
   "execution_count": 3,
   "id": "c823b7ec-63a5-48d6-a9c6-0cfca3dfe5b5",
   "metadata": {},
   "outputs": [],
   "source": [
    "# Set path\n",
    "path = r'C:\\Users\\karya\\Sourcing Open Data'"
   ]
  },
  {
   "cell_type": "code",
   "execution_count": 4,
   "id": "a744dfab-de88-4837-9a72-7f69d837d504",
   "metadata": {},
   "outputs": [
    {
     "data": {
      "text/plain": [
       "'C:\\\\Users\\\\karya\\\\Sourcing Open Data'"
      ]
     },
     "execution_count": 4,
     "metadata": {},
     "output_type": "execute_result"
    }
   ],
   "source": [
    "path"
   ]
  },
  {
   "cell_type": "code",
   "execution_count": 5,
   "id": "6cf7a40e-f0f5-4a95-9e16-466d451cf262",
   "metadata": {},
   "outputs": [],
   "source": [
    "# Importing boat_data\n",
    "\n",
    "df= pd.read_csv(os.path.join(path, '02. Data','Prepared Data', 'Boat_Sales_clean_Data_Task2.csv'))"
   ]
  },
  {
   "cell_type": "code",
   "execution_count": 6,
   "id": "8e133c85-7737-4eef-91e5-ae0e172cbca1",
   "metadata": {},
   "outputs": [
    {
     "data": {
      "text/html": [
       "<div>\n",
       "<style scoped>\n",
       "    .dataframe tbody tr th:only-of-type {\n",
       "        vertical-align: middle;\n",
       "    }\n",
       "\n",
       "    .dataframe tbody tr th {\n",
       "        vertical-align: top;\n",
       "    }\n",
       "\n",
       "    .dataframe thead th {\n",
       "        text-align: right;\n",
       "    }\n",
       "</style>\n",
       "<table border=\"1\" class=\"dataframe\">\n",
       "  <thead>\n",
       "    <tr style=\"text-align: right;\">\n",
       "      <th></th>\n",
       "      <th>Unnamed: 0.1</th>\n",
       "      <th>Unnamed: 0</th>\n",
       "      <th>Boat Type</th>\n",
       "      <th>Manufacturer</th>\n",
       "      <th>Type</th>\n",
       "      <th>Year Built</th>\n",
       "      <th>Length</th>\n",
       "      <th>Width</th>\n",
       "      <th>Material</th>\n",
       "      <th>Location</th>\n",
       "      <th>Number of views last 7 days</th>\n",
       "      <th>price_in_Euro</th>\n",
       "      <th>Engine_type</th>\n",
       "      <th>Engine_condition</th>\n",
       "      <th>Boat_age</th>\n",
       "      <th>Country</th>\n",
       "      <th>City</th>\n",
       "      <th>Boat_Type</th>\n",
       "      <th>Price category</th>\n",
       "      <th>View Performance</th>\n",
       "    </tr>\n",
       "  </thead>\n",
       "  <tbody>\n",
       "    <tr>\n",
       "      <th>0</th>\n",
       "      <td>0</td>\n",
       "      <td>0</td>\n",
       "      <td>Motor Yacht</td>\n",
       "      <td>Rigiflex power boats</td>\n",
       "      <td>new boat from stock</td>\n",
       "      <td>2017</td>\n",
       "      <td>4.00</td>\n",
       "      <td>1.90</td>\n",
       "      <td>NaN</td>\n",
       "      <td>Switzerland Â» Lake Geneva Â» VÃ©senaz</td>\n",
       "      <td>226</td>\n",
       "      <td>94800.0</td>\n",
       "      <td>NaN</td>\n",
       "      <td>New</td>\n",
       "      <td>Old (built between 2000-2017)</td>\n",
       "      <td>Switzerland</td>\n",
       "      <td>Lake Geneva</td>\n",
       "      <td>Motor Yacht</td>\n",
       "      <td>Middle price( 94800 -108000)</td>\n",
       "      <td>Good (More than 170)</td>\n",
       "    </tr>\n",
       "    <tr>\n",
       "      <th>1</th>\n",
       "      <td>1</td>\n",
       "      <td>1</td>\n",
       "      <td>Center console boat</td>\n",
       "      <td>Terhi power boats</td>\n",
       "      <td>new boat from stock</td>\n",
       "      <td>2020</td>\n",
       "      <td>4.00</td>\n",
       "      <td>1.50</td>\n",
       "      <td>Thermoplastic</td>\n",
       "      <td>Germany Â» BÃ¶nningstedt</td>\n",
       "      <td>75</td>\n",
       "      <td>94800.0</td>\n",
       "      <td>NaN</td>\n",
       "      <td>New</td>\n",
       "      <td>Modern (built after 2017)</td>\n",
       "      <td>Germany</td>\n",
       "      <td>Bnningstedt</td>\n",
       "      <td>Center console boat</td>\n",
       "      <td>Middle price( 94800 -108000)</td>\n",
       "      <td>Average (70-170)</td>\n",
       "    </tr>\n",
       "    <tr>\n",
       "      <th>2</th>\n",
       "      <td>2</td>\n",
       "      <td>3</td>\n",
       "      <td>Sport Boat</td>\n",
       "      <td>Pioner power boats</td>\n",
       "      <td>new boat from stock</td>\n",
       "      <td>2020</td>\n",
       "      <td>3.00</td>\n",
       "      <td>1.00</td>\n",
       "      <td>NaN</td>\n",
       "      <td>Denmark Â» Svendborg</td>\n",
       "      <td>64</td>\n",
       "      <td>94800.0</td>\n",
       "      <td>NaN</td>\n",
       "      <td>New</td>\n",
       "      <td>Modern (built after 2017)</td>\n",
       "      <td>Denmark</td>\n",
       "      <td>Svendborg</td>\n",
       "      <td>Sport Boat</td>\n",
       "      <td>Middle price( 94800 -108000)</td>\n",
       "      <td>Low (less than 70)</td>\n",
       "    </tr>\n",
       "    <tr>\n",
       "      <th>3</th>\n",
       "      <td>3</td>\n",
       "      <td>4</td>\n",
       "      <td>Fishing Boat</td>\n",
       "      <td>Linder power boats</td>\n",
       "      <td>new boat from stock</td>\n",
       "      <td>2019</td>\n",
       "      <td>3.55</td>\n",
       "      <td>1.46</td>\n",
       "      <td>Aluminium</td>\n",
       "      <td>Germany Â» Bayern Â» MÃ¼nchen</td>\n",
       "      <td>58</td>\n",
       "      <td>94800.0</td>\n",
       "      <td>NaN</td>\n",
       "      <td>New</td>\n",
       "      <td>Modern (built after 2017)</td>\n",
       "      <td>Germany</td>\n",
       "      <td>Bayern</td>\n",
       "      <td>Fishing Boat</td>\n",
       "      <td>Middle price( 94800 -108000)</td>\n",
       "      <td>Low (less than 70)</td>\n",
       "    </tr>\n",
       "    <tr>\n",
       "      <th>4</th>\n",
       "      <td>4</td>\n",
       "      <td>6</td>\n",
       "      <td>Catamaran</td>\n",
       "      <td>NaN</td>\n",
       "      <td>Used boat,Unleaded</td>\n",
       "      <td>1999</td>\n",
       "      <td>6.20</td>\n",
       "      <td>2.38</td>\n",
       "      <td>Aluminium</td>\n",
       "      <td>Switzerland Â» Neuenburgersee Â» Yvonand</td>\n",
       "      <td>474</td>\n",
       "      <td>94800.0</td>\n",
       "      <td>Unleaded</td>\n",
       "      <td>Used</td>\n",
       "      <td>Very Old (built before 2000)</td>\n",
       "      <td>Switzerland</td>\n",
       "      <td>Neuenburgersee</td>\n",
       "      <td>Catamaran</td>\n",
       "      <td>Middle price( 94800 -108000)</td>\n",
       "      <td>Good (More than 170)</td>\n",
       "    </tr>\n",
       "  </tbody>\n",
       "</table>\n",
       "</div>"
      ],
      "text/plain": [
       "   Unnamed: 0.1  Unnamed: 0            Boat Type          Manufacturer  \\\n",
       "0             0           0          Motor Yacht  Rigiflex power boats   \n",
       "1             1           1  Center console boat     Terhi power boats   \n",
       "2             2           3           Sport Boat    Pioner power boats   \n",
       "3             3           4         Fishing Boat    Linder power boats   \n",
       "4             4           6            Catamaran                   NaN   \n",
       "\n",
       "                  Type  Year Built  Length  Width       Material  \\\n",
       "0  new boat from stock        2017    4.00   1.90            NaN   \n",
       "1  new boat from stock        2020    4.00   1.50  Thermoplastic   \n",
       "2  new boat from stock        2020    3.00   1.00            NaN   \n",
       "3  new boat from stock        2019    3.55   1.46      Aluminium   \n",
       "4   Used boat,Unleaded        1999    6.20   2.38      Aluminium   \n",
       "\n",
       "                                    Location  Number of views last 7 days  \\\n",
       "0     Switzerland Â» Lake Geneva Â» VÃ©senaz                          226   \n",
       "1                   Germany Â» BÃ¶nningstedt                           75   \n",
       "2                       Denmark Â» Svendborg                           64   \n",
       "3              Germany Â» Bayern Â» MÃ¼nchen                           58   \n",
       "4  Switzerland Â» Neuenburgersee Â» Yvonand                           474   \n",
       "\n",
       "   price_in_Euro Engine_type Engine_condition                       Boat_age  \\\n",
       "0        94800.0         NaN              New  Old (built between 2000-2017)   \n",
       "1        94800.0         NaN              New      Modern (built after 2017)   \n",
       "2        94800.0         NaN              New      Modern (built after 2017)   \n",
       "3        94800.0         NaN              New      Modern (built after 2017)   \n",
       "4        94800.0    Unleaded             Used   Very Old (built before 2000)   \n",
       "\n",
       "        Country              City            Boat_Type  \\\n",
       "0  Switzerland       Lake Geneva           Motor Yacht   \n",
       "1      Germany        Bnningstedt  Center console boat   \n",
       "2      Denmark          Svendborg           Sport Boat   \n",
       "3      Germany            Bayern          Fishing Boat   \n",
       "4  Switzerland    Neuenburgersee             Catamaran   \n",
       "\n",
       "                 Price category      View Performance  \n",
       "0  Middle price( 94800 -108000)  Good (More than 170)  \n",
       "1  Middle price( 94800 -108000)      Average (70-170)  \n",
       "2  Middle price( 94800 -108000)    Low (less than 70)  \n",
       "3  Middle price( 94800 -108000)    Low (less than 70)  \n",
       "4  Middle price( 94800 -108000)  Good (More than 170)  "
      ]
     },
     "execution_count": 6,
     "metadata": {},
     "output_type": "execute_result"
    }
   ],
   "source": [
    "df.head()"
   ]
  },
  {
   "cell_type": "markdown",
   "id": "973d3ef9-3ed8-418d-8c30-21d11cbda67d",
   "metadata": {},
   "source": [
    "#### The dataframe imported is a clean Dataframe from previous Tasks."
   ]
  },
  {
   "cell_type": "markdown",
   "id": "a5b112c6-66ed-4489-9b1a-f3d7b5b0fd7c",
   "metadata": {},
   "source": [
    "## 2. Data prep for regression analysis"
   ]
  },
  {
   "cell_type": "code",
   "execution_count": 7,
   "id": "5c02d9d3-469f-4a25-a6b8-e7a4c4247d5d",
   "metadata": {},
   "outputs": [
    {
     "data": {
      "image/png": "[encoded data removed]",
      "text/plain": [
       "<Figure size 640x480 with 1 Axes>"
      ]
     },
     "metadata": {},
     "output_type": "display_data"
    }
   ],
   "source": [
    "# Create a scatterplot using matplotlib for another look at how the chosen variables plot against each other.\n",
    "\n",
    "df.plot(x = 'price_in_Euro', y='Number of views last 7 days',style='o') # The style option creates a scatterplot; without it, we only have lines.\n",
    "plt.title('Number of views last 7 days vs price_in_Euro')  \n",
    "plt.xlabel('price_in_Euro')  \n",
    "plt.ylabel('Number of views last 7 days')  \n",
    "plt.show()"
   ]
  },
  {
   "cell_type": "markdown",
   "id": "fed4d5bd-64c1-4b01-a10c-bf374e537cd4",
   "metadata": {},
   "source": [
    "## **The Hypothesis:**\n",
    "### The higher the price of the Boat the less views will it get."
   ]
  },
  {
   "cell_type": "markdown",
   "id": "c8aeb0e3-7841-414c-80de-5fcb9dd4b9b5",
   "metadata": {},
   "source": [
    "##### Next, we need to prepare our independent and dependent variables for our regression analysis. \n",
    "##### The scikit-learn library is programmed to take in NumPy arrays, which are a specific format from the NumPy library.\n",
    "##### To make these arrays, we need to reshape our variables using the reshape() function, then put them into separate objects, X and y:"
   ]
  },
  {
   "cell_type": "code",
   "execution_count": 8,
   "id": "bfa5d395-7686-49d6-8136-caff7ba3e712",
   "metadata": {},
   "outputs": [],
   "source": [
    "# Reshape the variables into NumPy arrays and put them into separate objects.\n",
    "\n",
    "X = df['price_in_Euro'].values.reshape(-1,1)\n",
    "y = df['Number of views last 7 days'].values.reshape(-1,1)"
   ]
  },
  {
   "cell_type": "code",
   "execution_count": 9,
   "id": "69f7de18-6212-4744-9656-12bc98866ad6",
   "metadata": {},
   "outputs": [
    {
     "data": {
      "text/plain": [
       "array([[94800.],\n",
       "       [94800.],\n",
       "       [94800.],\n",
       "       ...,\n",
       "       [ 4499.],\n",
       "       [94800.],\n",
       "       [94800.]])"
      ]
     },
     "execution_count": 9,
     "metadata": {},
     "output_type": "execute_result"
    }
   ],
   "source": [
    "X"
   ]
  },
  {
   "cell_type": "code",
   "execution_count": 10,
   "id": "31fab957-0070-461e-918a-4cf97d04e74e",
   "metadata": {},
   "outputs": [
    {
     "data": {
      "text/plain": [
       "array([[226],\n",
       "       [ 75],\n",
       "       [ 64],\n",
       "       ...,\n",
       "       [354],\n",
       "       [266],\n",
       "       [194]], dtype=int64)"
      ]
     },
     "execution_count": 10,
     "metadata": {},
     "output_type": "execute_result"
    }
   ],
   "source": [
    "y"
   ]
  },
  {
   "cell_type": "markdown",
   "id": "af4d5ba9-99a1-42ac-ab2d-73ea9b1228a0",
   "metadata": {},
   "source": [
    "#### We need to train our model on a “training set” of data, then test the model on a “test set” of data.\n",
    "#### To that end, we first need to split each variable into a training and test set by using a built-in scikit-learn function, train_test_split():"
   ]
  },
  {
   "cell_type": "code",
   "execution_count": 11,
   "id": "252faf0b-5f27-4607-86fe-391d900a974f",
   "metadata": {},
   "outputs": [],
   "source": [
    "# Split data into a training set and a test set.\n",
    "\n",
    "X_train, X_test, y_train, y_test = train_test_split(X, y, test_size=0.3, random_state=0)"
   ]
  },
  {
   "cell_type": "markdown",
   "id": "ea877688-35f2-44e7-8c58-477d9655f6db",
   "metadata": {},
   "source": [
    "## **Regression analysis**"
   ]
  },
  {
   "cell_type": "markdown",
   "id": "2908f60c-8a38-48cf-aa9b-14285cfa5701",
   "metadata": {},
   "source": [
    "#### To run the regression, we’ll use the scikit-learn functions.\n",
    "#### We start by creating a regression object:\n",
    "\r\n",
    "regression = LinearRegression()"
   ]
  },
  {
   "cell_type": "code",
   "execution_count": 12,
   "id": "faccb325-18f7-4a3a-ad2a-a719ef939dac",
   "metadata": {},
   "outputs": [],
   "source": [
    "# Create a regression object.\n",
    "\n",
    "regression = LinearRegression()  # This is the regression object, which will be fit onto the training set."
   ]
  },
  {
   "cell_type": "code",
   "execution_count": 13,
   "id": "611d700a-8e4b-4923-a04b-9b1280484cb1",
   "metadata": {},
   "outputs": [
    {
     "data": {
      "text/html": [
       "<style>#sk-container-id-1 {color: black;background-color: white;}#sk-container-id-1 pre{padding: 0;}#sk-container-id-1 div.sk-toggleable {background-color: white;}#sk-container-id-1 label.sk-toggleable__label {cursor: pointer;display: block;width: 100%;margin-bottom: 0;padding: 0.3em;box-sizing: border-box;text-align: center;}#sk-container-id-1 label.sk-toggleable__label-arrow:before {content: \"▸\";float: left;margin-right: 0.25em;color: #696969;}#sk-container-id-1 label.sk-toggleable__label-arrow:hover:before {color: black;}#sk-container-id-1 div.sk-estimator:hover label.sk-toggleable__label-arrow:before {color: black;}#sk-container-id-1 div.sk-toggleable__content {max-height: 0;max-width: 0;overflow: hidden;text-align: left;background-color: #f0f8ff;}#sk-container-id-1 div.sk-toggleable__content pre {margin: 0.2em;color: black;border-radius: 0.25em;background-color: #f0f8ff;}#sk-container-id-1 input.sk-toggleable__control:checked~div.sk-toggleable__content {max-height: 200px;max-width: 100%;overflow: auto;}#sk-container-id-1 input.sk-toggleable__control:checked~label.sk-toggleable__label-arrow:before {content: \"▾\";}#sk-container-id-1 div.sk-estimator input.sk-toggleable__control:checked~label.sk-toggleable__label {background-color: #d4ebff;}#sk-container-id-1 div.sk-label input.sk-toggleable__control:checked~label.sk-toggleable__label {background-color: #d4ebff;}#sk-container-id-1 input.sk-hidden--visually {border: 0;clip: rect(1px 1px 1px 1px);clip: rect(1px, 1px, 1px, 1px);height: 1px;margin: -1px;overflow: hidden;padding: 0;position: absolute;width: 1px;}#sk-container-id-1 div.sk-estimator {font-family: monospace;background-color: #f0f8ff;border: 1px dotted black;border-radius: 0.25em;box-sizing: border-box;margin-bottom: 0.5em;}#sk-container-id-1 div.sk-estimator:hover {background-color: #d4ebff;}#sk-container-id-1 div.sk-parallel-item::after {content: \"\";width: 100%;border-bottom: 1px solid gray;flex-grow: 1;}#sk-container-id-1 div.sk-label:hover label.sk-toggleable__label {background-color: #d4ebff;}#sk-container-id-1 div.sk-serial::before {content: \"\";position: absolute;border-left: 1px solid gray;box-sizing: border-box;top: 0;bottom: 0;left: 50%;z-index: 0;}#sk-container-id-1 div.sk-serial {display: flex;flex-direction: column;align-items: center;background-color: white;padding-right: 0.2em;padding-left: 0.2em;position: relative;}#sk-container-id-1 div.sk-item {position: relative;z-index: 1;}#sk-container-id-1 div.sk-parallel {display: flex;align-items: stretch;justify-content: center;background-color: white;position: relative;}#sk-container-id-1 div.sk-item::before, #sk-container-id-1 div.sk-parallel-item::before {content: \"\";position: absolute;border-left: 1px solid gray;box-sizing: border-box;top: 0;bottom: 0;left: 50%;z-index: -1;}#sk-container-id-1 div.sk-parallel-item {display: flex;flex-direction: column;z-index: 1;position: relative;background-color: white;}#sk-container-id-1 div.sk-parallel-item:first-child::after {align-self: flex-end;width: 50%;}#sk-container-id-1 div.sk-parallel-item:last-child::after {align-self: flex-start;width: 50%;}#sk-container-id-1 div.sk-parallel-item:only-child::after {width: 0;}#sk-container-id-1 div.sk-dashed-wrapped {border: 1px dashed gray;margin: 0 0.4em 0.5em 0.4em;box-sizing: border-box;padding-bottom: 0.4em;background-color: white;}#sk-container-id-1 div.sk-label label {font-family: monospace;font-weight: bold;display: inline-block;line-height: 1.2em;}#sk-container-id-1 div.sk-label-container {text-align: center;}#sk-container-id-1 div.sk-container {/* jupyter's `normalize.less` sets `[hidden] { display: none; }` but bootstrap.min.css set `[hidden] { display: none !important; }` so we also need the `!important` here to be able to override the default hidden behavior on the sphinx rendered scikit-learn.org. See: https://github.com/scikit-learn/scikit-learn/issues/21755 */display: inline-block !important;position: relative;}#sk-container-id-1 div.sk-text-repr-fallback {display: none;}</style><div id=\"sk-container-id-1\" class=\"sk-top-container\"><div class=\"sk-text-repr-fallback\"><pre>LinearRegression()</pre><b>In a Jupyter environment, please rerun this cell to show the HTML representation or trust the notebook. <br />On GitHub, the HTML representation is unable to render, please try loading this page with nbviewer.org.</b></div><div class=\"sk-container\" hidden><div class=\"sk-item\"><div class=\"sk-estimator sk-toggleable\"><input class=\"sk-toggleable__control sk-hidden--visually\" id=\"sk-estimator-id-1\" type=\"checkbox\" checked><label for=\"sk-estimator-id-1\" class=\"sk-toggleable__label sk-toggleable__label-arrow\">LinearRegression</label><div class=\"sk-toggleable__content\"><pre>LinearRegression()</pre></div></div></div></div></div>"
      ],
      "text/plain": [
       "LinearRegression()"
      ]
     },
     "execution_count": 13,
     "metadata": {},
     "output_type": "execute_result"
    }
   ],
   "source": [
    "# Fit the regression object onto the training set.\n",
    "\n",
    "regression.fit(X_train, y_train)"
   ]
  },
  {
   "cell_type": "code",
   "execution_count": 14,
   "id": "579830ca-5d33-43a0-9a0d-da2c70ca9ceb",
   "metadata": {},
   "outputs": [],
   "source": [
    "# Predict the values of y using X.\n",
    "\n",
    "y_predicted = regression.predict(X_test)"
   ]
  },
  {
   "cell_type": "code",
   "execution_count": 15,
   "id": "b9471f11-5509-40fc-919b-69ca646c8752",
   "metadata": {},
   "outputs": [
    {
     "data": {
      "image/png": "[encoded data removed]",
      "text/plain": [
       "<Figure size 640x480 with 1 Axes>"
      ]
     },
     "metadata": {},
     "output_type": "display_data"
    }
   ],
   "source": [
    "# Create a plot that shows the regression line from the model on the test set.\n",
    "\n",
    "plot_test = plt\n",
    "plot_test.scatter(X_test, y_test, color='gray', s = 15)\n",
    "plot_test.plot(X_test, y_predicted, color='red', linewidth =3)\n",
    "plot_test.title('Number of views last 7 days vs price_in_Euro (Test set)')\n",
    "plot_test.xlabel('price_in_Euro')\n",
    "plot_test.ylabel('Number of views last 7 days')\n",
    "plot_test.show()"
   ]
  },
  {
   "cell_type": "markdown",
   "id": "0f6a541f-f786-4757-927c-1899551ebd19",
   "metadata": {},
   "source": [
    "#### The red line is the regression line—but how accurate is its fit to the test set? And, subsequently, how accurate is it at predicting Number of views last 7 days(the y variable)?"
   ]
  },
  {
   "cell_type": "markdown",
   "id": "e2bc4916-9b14-4641-a7b5-e89c67c293be",
   "metadata": {},
   "source": [
    "##### We can see immediately that the linear model represented by the red regression line doesn’t perfectly cover all of our data points. In order to check the accuracy of the model, we need to check its performance in more ways than just visually. \n",
    "##### We can do this by checking some of the model’s summary statistics—namely, slope, root mean squared error, and r-squared value. After applying the regression model on our test data, we have the following summary statistics to interpret:"
   ]
  },
  {
   "cell_type": "code",
   "execution_count": 16,
   "id": "c81c0233-6c09-4486-92f1-43093f37abfa",
   "metadata": {},
   "outputs": [],
   "source": [
    "# Create objects that contain the model summary statistics.\n",
    "\n",
    "rmse = mean_squared_error(y_test, y_predicted) # This is the mean squared error\n",
    "r2 = r2_score(y_test, y_predicted) # This is the R2 score. "
   ]
  },
  {
   "cell_type": "code",
   "execution_count": 17,
   "id": "5ef300a3-d898-4136-9163-9070deab32ce",
   "metadata": {},
   "outputs": [
    {
     "name": "stdout",
     "output_type": "stream",
     "text": [
      "Slope: [[-1.46697171e-06]]\n",
      "Mean squared error:  21235.028789346623\n",
      "R2 score:  -0.0006277700976276002\n"
     ]
    }
   ],
   "source": [
    "# Print the model summary statistics. This is where we evaluate the performance of the model.\n",
    "\n",
    "print('Slope:' ,regression.coef_)\n",
    "print('Mean squared error: ', rmse)\n",
    "print('R2 score: ', r2)"
   ]
  },
  {
   "cell_type": "code",
   "execution_count": 18,
   "id": "a4cbc011-6ed2-41e5-bcba-b309c4472e37",
   "metadata": {},
   "outputs": [
    {
     "data": {
      "text/plain": [
       "array([[151.65109148],\n",
       "       [151.28185353],\n",
       "       [151.13104883],\n",
       "       ...,\n",
       "       [151.71783752],\n",
       "       [151.79881436],\n",
       "       [151.79881436]])"
      ]
     },
     "execution_count": 18,
     "metadata": {},
     "output_type": "execute_result"
    }
   ],
   "source": [
    "y_predicted"
   ]
  },
  {
   "cell_type": "markdown",
   "id": "ec4f4826-096d-4078-8911-a69968a392e3",
   "metadata": {},
   "source": [
    "The slope is a coefficient that tells you how the y variable changes when X changes. A negative slope value indicates a negative relationship (as X rises, y drops), and a positive slope indicates a positive relationship (as X rises, so does y). A coefficient of zero would mean that as X rises, y stays the same.\n",
    "\n",
    "Here, we have a negative relationship, so the coefficient is negative, too. The slope here means that as X rises (as the price of the boat rises), y slightly drops (the Number of views last 7 days drops) at a degree of [[-1.46697171e-06]]. This is great! However, while it does tell us the regression  line has a generally negative slope, it doesn’t actually tell us how well our model performed. For that, we need the other two metrics—the root mean squared error (MSE) and the r-squared value. Let’s take a look at those now"
   ]
  },
  {
   "cell_type": "markdown",
   "id": "cf848a2c-f628-49e8-8380-d6397cb774d3",
   "metadata": {},
   "source": [
    "The root mean squared error (MSE) is an estimator that measures the average of the squared difference between the estimated values and the true values. Put more simply, it tells us how close a regression line is to a set of points (i.e., its accuracy). It does so by taking the distances from the points to the regression line and squaring them. The larger the distance, the farther away the regression line is from the data points, indicating that the regression line isn’t an accurate representation of the data. A small MSE, however, means that the regression line passes fairly close to the observations, making it a good fit."
   ]
  },
  {
   "cell_type": "markdown",
   "id": "cfe5c176-44a6-4300-9e17-0c5e96fce8cb",
   "metadata": {},
   "source": [
    "In our case, the MSE is quite large at (21235.028789346623). From this, it’s safe to say that a regression may not be the best model to represent this data and can’t accurately predict the influence of price in Euro on the Number of views last 7 days."
   ]
  },
  {
   "cell_type": "markdown",
   "id": "dfdb11bf-1a8f-48e3-bb05-47b78d93639b",
   "metadata": {},
   "source": [
    "Now, let’s take a look at the r-squared value (sometimes written as R2 score, especially in code), which is a metric that tells you how well the model explains the variance in the data.let’s discuss it in more detail below. It’s a number (usually) between 0 and 1, where values closer to 0 indicate a poor fit, and values closer to 1 indicate a good fit. It can also take a negative value such as in our case (R2 score:  -0.0006277700976276002) if the model fits worse than a horizontal line."
   ]
  },
  {
   "cell_type": "markdown",
   "id": "f164df64-6ff9-4a98-ab24-b0b6bf7e9ec7",
   "metadata": {},
   "source": [
    "After looking at both of these, it’s pretty clear that our model isn’t performing well. But there’s still one more way to do a last manual check—by making a dataframe of y values and their predicted values. Doing so will let us physically see the difference between the two and get a feel for how close or how off the model is from reality:"
   ]
  },
  {
   "cell_type": "code",
   "execution_count": 19,
   "id": "61a4877f-6c3c-4525-aa2e-0e26f02aa41c",
   "metadata": {},
   "outputs": [
    {
     "data": {
      "text/html": [
       "<div>\n",
       "<style scoped>\n",
       "    .dataframe tbody tr th:only-of-type {\n",
       "        vertical-align: middle;\n",
       "    }\n",
       "\n",
       "    .dataframe tbody tr th {\n",
       "        vertical-align: top;\n",
       "    }\n",
       "\n",
       "    .dataframe thead th {\n",
       "        text-align: right;\n",
       "    }\n",
       "</style>\n",
       "<table border=\"1\" class=\"dataframe\">\n",
       "  <thead>\n",
       "    <tr style=\"text-align: right;\">\n",
       "      <th></th>\n",
       "      <th>Actual</th>\n",
       "      <th>Predicted</th>\n",
       "    </tr>\n",
       "  </thead>\n",
       "  <tbody>\n",
       "    <tr>\n",
       "      <th>0</th>\n",
       "      <td>160</td>\n",
       "      <td>151.651091</td>\n",
       "    </tr>\n",
       "    <tr>\n",
       "      <th>1</th>\n",
       "      <td>402</td>\n",
       "      <td>151.281854</td>\n",
       "    </tr>\n",
       "    <tr>\n",
       "      <th>2</th>\n",
       "      <td>99</td>\n",
       "      <td>151.131049</td>\n",
       "    </tr>\n",
       "    <tr>\n",
       "      <th>3</th>\n",
       "      <td>81</td>\n",
       "      <td>151.571287</td>\n",
       "    </tr>\n",
       "    <tr>\n",
       "      <th>4</th>\n",
       "      <td>196</td>\n",
       "      <td>151.534466</td>\n",
       "    </tr>\n",
       "    <tr>\n",
       "      <th>5</th>\n",
       "      <td>153</td>\n",
       "      <td>151.798814</td>\n",
       "    </tr>\n",
       "    <tr>\n",
       "      <th>6</th>\n",
       "      <td>154</td>\n",
       "      <td>151.798814</td>\n",
       "    </tr>\n",
       "    <tr>\n",
       "      <th>7</th>\n",
       "      <td>603</td>\n",
       "      <td>140.381814</td>\n",
       "    </tr>\n",
       "    <tr>\n",
       "      <th>8</th>\n",
       "      <td>25</td>\n",
       "      <td>151.798814</td>\n",
       "    </tr>\n",
       "    <tr>\n",
       "      <th>9</th>\n",
       "      <td>199</td>\n",
       "      <td>151.798814</td>\n",
       "    </tr>\n",
       "    <tr>\n",
       "      <th>10</th>\n",
       "      <td>144</td>\n",
       "      <td>151.747177</td>\n",
       "    </tr>\n",
       "    <tr>\n",
       "      <th>11</th>\n",
       "      <td>59</td>\n",
       "      <td>151.798814</td>\n",
       "    </tr>\n",
       "    <tr>\n",
       "      <th>12</th>\n",
       "      <td>265</td>\n",
       "      <td>151.864805</td>\n",
       "    </tr>\n",
       "    <tr>\n",
       "      <th>13</th>\n",
       "      <td>160</td>\n",
       "      <td>151.798814</td>\n",
       "    </tr>\n",
       "    <tr>\n",
       "      <th>14</th>\n",
       "      <td>212</td>\n",
       "      <td>151.798814</td>\n",
       "    </tr>\n",
       "    <tr>\n",
       "      <th>15</th>\n",
       "      <td>72</td>\n",
       "      <td>151.798814</td>\n",
       "    </tr>\n",
       "    <tr>\n",
       "      <th>16</th>\n",
       "      <td>111</td>\n",
       "      <td>151.770722</td>\n",
       "    </tr>\n",
       "    <tr>\n",
       "      <th>17</th>\n",
       "      <td>117</td>\n",
       "      <td>151.798814</td>\n",
       "    </tr>\n",
       "    <tr>\n",
       "      <th>18</th>\n",
       "      <td>163</td>\n",
       "      <td>151.905610</td>\n",
       "    </tr>\n",
       "    <tr>\n",
       "      <th>19</th>\n",
       "      <td>75</td>\n",
       "      <td>151.566197</td>\n",
       "    </tr>\n",
       "    <tr>\n",
       "      <th>20</th>\n",
       "      <td>79</td>\n",
       "      <td>151.916612</td>\n",
       "    </tr>\n",
       "    <tr>\n",
       "      <th>21</th>\n",
       "      <td>141</td>\n",
       "      <td>151.905610</td>\n",
       "    </tr>\n",
       "    <tr>\n",
       "      <th>22</th>\n",
       "      <td>166</td>\n",
       "      <td>151.249874</td>\n",
       "    </tr>\n",
       "    <tr>\n",
       "      <th>23</th>\n",
       "      <td>125</td>\n",
       "      <td>151.798814</td>\n",
       "    </tr>\n",
       "    <tr>\n",
       "      <th>24</th>\n",
       "      <td>135</td>\n",
       "      <td>151.811870</td>\n",
       "    </tr>\n",
       "    <tr>\n",
       "      <th>25</th>\n",
       "      <td>54</td>\n",
       "      <td>151.798814</td>\n",
       "    </tr>\n",
       "    <tr>\n",
       "      <th>26</th>\n",
       "      <td>379</td>\n",
       "      <td>151.798814</td>\n",
       "    </tr>\n",
       "    <tr>\n",
       "      <th>27</th>\n",
       "      <td>103</td>\n",
       "      <td>151.797641</td>\n",
       "    </tr>\n",
       "    <tr>\n",
       "      <th>28</th>\n",
       "      <td>267</td>\n",
       "      <td>137.414863</td>\n",
       "    </tr>\n",
       "    <tr>\n",
       "      <th>29</th>\n",
       "      <td>370</td>\n",
       "      <td>151.863126</td>\n",
       "    </tr>\n",
       "  </tbody>\n",
       "</table>\n",
       "</div>"
      ],
      "text/plain": [
       "    Actual   Predicted\n",
       "0      160  151.651091\n",
       "1      402  151.281854\n",
       "2       99  151.131049\n",
       "3       81  151.571287\n",
       "4      196  151.534466\n",
       "5      153  151.798814\n",
       "6      154  151.798814\n",
       "7      603  140.381814\n",
       "8       25  151.798814\n",
       "9      199  151.798814\n",
       "10     144  151.747177\n",
       "11      59  151.798814\n",
       "12     265  151.864805\n",
       "13     160  151.798814\n",
       "14     212  151.798814\n",
       "15      72  151.798814\n",
       "16     111  151.770722\n",
       "17     117  151.798814\n",
       "18     163  151.905610\n",
       "19      75  151.566197\n",
       "20      79  151.916612\n",
       "21     141  151.905610\n",
       "22     166  151.249874\n",
       "23     125  151.798814\n",
       "24     135  151.811870\n",
       "25      54  151.798814\n",
       "26     379  151.798814\n",
       "27     103  151.797641\n",
       "28     267  137.414863\n",
       "29     370  151.863126"
      ]
     },
     "execution_count": 19,
     "metadata": {},
     "output_type": "execute_result"
    }
   ],
   "source": [
    "# Create a dataframe comparing the actual and predicted values of y.\n",
    "\n",
    "data = pd.DataFrame({'Actual': y_test.flatten(), 'Predicted': y_predicted.flatten()})\n",
    "data.head(30)"
   ]
  },
  {
   "cell_type": "markdown",
   "id": "4edcf013-4714-4dd1-b435-1150556f7db6",
   "metadata": {},
   "source": [
    "Right off the bat, we can see there’s quite the difference between the actual and predicted y values. This just adds evidence to the fact that our model isn’t doing a great job of explaining the relationship between the “ price _in_Euro” and “ Number of views last 7 dyas” variables."
   ]
  },
  {
   "cell_type": "markdown",
   "id": "71ad6651-3eed-4be4-99b1-c38c5e90cce6",
   "metadata": {},
   "source": [
    "Now that you’ve confirmed the inaccuracy of your model, you can also rule out your hypothesis, “the higher the price of the boat, the  the less views will it get.” As it turns out, this statement is only partially true."
   ]
  },
  {
   "cell_type": "markdown",
   "id": "c0bf1304-a969-40a7-bd13-ecd8b1d6515c",
   "metadata": {},
   "source": [
    "For the time being, we know that while the pirce in Euro (the price of the Boat) is an important factor in attracting views, but it’s not the only one."
   ]
  },
  {
   "cell_type": "markdown",
   "id": "ce38c774-13fc-43d6-8bca-5117655b28dc",
   "metadata": {},
   "source": [
    "## **Compare how the regression fits the training set**"
   ]
  },
  {
   "cell_type": "markdown",
   "id": "a25fde2f-9e1f-4405-a4a0-c290d5f7b826",
   "metadata": {},
   "source": [
    "**OVERFITTING**\n",
    "\n",
    "Another way to check how well our model fits is to run it on our training data set—in other words, the same data set it learned from. We can usually expect this to fit better than on the test set; however, do keep in mind that having a high R2 score (such as in our case R2 score:  2.3472365643817383e-05) on the train set and a much lower score on the test set likely means you’ve overfitted your model. Overfitting means making a model too specific—so that in the end it can ONLY fit itself to the training data and not any other data (making it a bit useless when it comes to predicting things).\n",
    "Let’s check the fit of our current regression model on the training set:"
   ]
  },
  {
   "cell_type": "code",
   "execution_count": 20,
   "id": "b94a9909-15e2-4815-8383-bcafc6aa4e32",
   "metadata": {},
   "outputs": [],
   "source": [
    "# Predict.\n",
    "\n",
    "y_predicted_train = regression.predict(X_train) # This is predicting X_train!"
   ]
  },
  {
   "cell_type": "code",
   "execution_count": 21,
   "id": "131927c7-16eb-4827-af4c-a1ad32505b71",
   "metadata": {},
   "outputs": [],
   "source": [
    "rmse = mean_squared_error(y_train, y_predicted_train)\n",
    "r2 = r2_score(y_train, y_predicted_train)"
   ]
  },
  {
   "cell_type": "code",
   "execution_count": 22,
   "id": "8dbb1b9f-ebd7-468c-94e8-c15b357774bd",
   "metadata": {},
   "outputs": [
    {
     "name": "stdout",
     "output_type": "stream",
     "text": [
      "Slope: [[-1.46697171e-06]]\n",
      "Mean squared error:  25449.046632357415\n",
      "R2 score:  2.3472365643817383e-05\n"
     ]
    }
   ],
   "source": [
    "print('Slope:' ,regression.coef_)\n",
    "print('Mean squared error: ', rmse)\n",
    "print('R2 score: ', r2)"
   ]
  },
  {
   "cell_type": "code",
   "execution_count": 24,
   "id": "68218f73-8e8a-4f02-884f-1785e7888f1d",
   "metadata": {},
   "outputs": [
    {
     "data": {
      "image/png": "[encoded data removed]",
      "text/plain": [
       "<Figure size 640x480 with 1 Axes>"
      ]
     },
     "metadata": {},
     "output_type": "display_data"
    }
   ],
   "source": [
    "# Visualizing the training set results.\n",
    "\n",
    "plot_test = plt\n",
    "scatter= plot_test.scatter(X_train, y_train, color='green', s = 15)\n",
    "plot_test.plot(X_train, y_predicted_train, color='red', linewidth =3)\n",
    "plot_test.title('Number of views last 7 days vs price_in_Euro (Train set)')\n",
    "plot_test.xlabel('price_in_Euro')\n",
    "plot_test.ylabel('Number of views last 7 days')\n",
    "plot_test.show()"
   ]
  },
  {
   "cell_type": "code",
   "execution_count": 26,
   "id": "2dbdd4f5-70d5-4665-a41d-3916a17c798e",
   "metadata": {},
   "outputs": [],
   "source": [
    "# Exporting the visualization\n",
    "scatter.figure.savefig(os.path.join(path, '04. Analysis','Visualizations', 'Views_price_scatterplot.png'))"
   ]
  },
  {
   "cell_type": "markdown",
   "id": "33e8d2ef-37de-477c-ab7a-2b05abfd44cb",
   "metadata": {},
   "source": [
    "The result? We have overfit the Model (confirmed by an R2 score of  2.3472365643817383e-05). However, it also confirms that the relationship we are exploring isn’t purely linear."
   ]
  }
 ],
 "metadata": {
  "kernelspec": {
   "display_name": "Python 3 (ipykernel)",
   "language": "python",
   "name": "python3"
  },
  "language_info": {
   "codemirror_mode": {
    "name": "ipython",
    "version": 3
   },
   "file_extension": ".py",
   "mimetype": "text/x-python",
   "name": "python",
   "nbconvert_exporter": "python",
   "pygments_lexer": "ipython3",
   "version": "3.11.5"
  }
 },
 "nbformat": 4,
 "nbformat_minor": 5
}
